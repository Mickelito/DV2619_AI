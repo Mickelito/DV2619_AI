{
 "cells": [
  {
   "cell_type": "code",
   "execution_count": 373,
   "metadata": {},
   "outputs": [],
   "source": [
    "# Imports \n",
    "import numpy as np\n",
    "import random\n",
    "from datetime import datetime"
   ]
  },
  {
   "cell_type": "code",
   "execution_count": 374,
   "metadata": {},
   "outputs": [],
   "source": [
    "# Parameters\n",
    "n_cities = 20\n",
    "\n",
    "n_population = 10\n",
    "\n",
    "mutation_rate = 0.9"
   ]
  },
  {
   "cell_type": "code",
   "execution_count": 375,
   "metadata": {},
   "outputs": [
    {
     "data": {
      "text/plain": [
       "{'Berlin': [17, 30],\n",
       " 'London': [43, 23],\n",
       " 'Moscow': [12, 92],\n",
       " 'Barcelona': [48, 6],\n",
       " 'Rome': [41, 33],\n",
       " 'Paris': [28, 10],\n",
       " 'Vienna': [41, 46],\n",
       " 'Munich': [80, 18],\n",
       " 'Istanbul': [20, 73],\n",
       " 'Kyiv': [26, 82],\n",
       " 'Bucharest': [20, 29],\n",
       " 'Minsk': [48, 56],\n",
       " 'Warsaw': [98, 13],\n",
       " 'Budapest': [60, 60],\n",
       " 'Milan': [97, 85],\n",
       " 'Prague': [84, 53],\n",
       " 'Sofia': [69, 9],\n",
       " 'Birmingham': [49, 93],\n",
       " 'Brussels': [34, 71],\n",
       " 'Amsterdam': [92, 91]}"
      ]
     },
     "execution_count": 375,
     "metadata": {},
     "output_type": "execute_result"
    }
   ],
   "source": [
    "# Generating a list of coordenades representing each city\n",
    "coordinates_list = [[x,y] for x,y in zip(np.random.randint(0,100,n_cities),np.random.randint(0,100,n_cities))]\n",
    "names_list = np.array(['Berlin', 'London', 'Moscow', 'Barcelona', 'Rome', 'Paris', 'Vienna', 'Munich', 'Istanbul', 'Kyiv', 'Bucharest', 'Minsk', 'Warsaw', 'Budapest', 'Milan', 'Prague', 'Sofia', 'Birmingham', 'Brussels', 'Amsterdam'])\n",
    "cities_dict = { x:y for x,y in zip(names_list,coordinates_list)}\n",
    "\n",
    "# Function to compute the distance between two points\n",
    "def compute_city_distance_coordinates(a,b):\n",
    "    return ((a[0]-b[0])**2+(a[1]-b[1])**2)**0.5\n",
    "\n",
    "def compute_city_distance_names(city_a, city_b, cities_dict):\n",
    "    return compute_city_distance_coordinates(cities_dict[city_a], cities_dict[city_b])\n",
    "\n",
    "cities_dict"
   ]
  },
  {
   "cell_type": "code",
   "execution_count": 376,
   "metadata": {},
   "outputs": [
    {
     "data": {
      "text/plain": [
       "array([['Barcelona', 'Istanbul', 'Amsterdam', 'Warsaw', 'Vienna',\n",
       "        'Berlin', 'Sofia', 'Kyiv', 'Milan', 'Budapest', 'Munich',\n",
       "        'Minsk', 'Birmingham', 'Brussels', 'London', 'Paris', 'Prague',\n",
       "        'Moscow', 'Rome', 'Bucharest'],\n",
       "       ['Istanbul', 'Prague', 'Brussels', 'Bucharest', 'Moscow',\n",
       "        'Barcelona', 'Amsterdam', 'Kyiv', 'Sofia', 'Milan', 'Warsaw',\n",
       "        'Birmingham', 'Berlin', 'Minsk', 'Paris', 'Budapest', 'Munich',\n",
       "        'Vienna', 'Rome', 'London'],\n",
       "       ['Prague', 'Warsaw', 'Moscow', 'Rome', 'London', 'Munich',\n",
       "        'Vienna', 'Budapest', 'Paris', 'Milan', 'Kyiv', 'Minsk',\n",
       "        'Brussels', 'Sofia', 'Istanbul', 'Berlin', 'Barcelona',\n",
       "        'Amsterdam', 'Bucharest', 'Birmingham'],\n",
       "       ['Budapest', 'Istanbul', 'Moscow', 'London', 'Rome', 'Paris',\n",
       "        'Warsaw', 'Amsterdam', 'Prague', 'Berlin', 'Birmingham',\n",
       "        'Bucharest', 'Kyiv', 'Munich', 'Barcelona', 'Brussels', 'Minsk',\n",
       "        'Sofia', 'Milan', 'Vienna'],\n",
       "       ['Birmingham', 'Vienna', 'Warsaw', 'Moscow', 'Barcelona',\n",
       "        'Istanbul', 'Sofia', 'Brussels', 'Paris', 'Prague', 'Munich',\n",
       "        'Rome', 'Budapest', 'Bucharest', 'Minsk', 'Berlin', 'Amsterdam',\n",
       "        'Milan', 'Kyiv', 'London'],\n",
       "       ['Barcelona', 'Istanbul', 'Birmingham', 'Paris', 'Minsk', 'Milan',\n",
       "        'Budapest', 'Moscow', 'Amsterdam', 'Prague', 'Rome', 'Brussels',\n",
       "        'Munich', 'Vienna', 'Warsaw', 'Kyiv', 'London', 'Bucharest',\n",
       "        'Sofia', 'Berlin'],\n",
       "       ['Milan', 'Minsk', 'Paris', 'Budapest', 'Moscow', 'Bucharest',\n",
       "        'London', 'Brussels', 'Amsterdam', 'Birmingham', 'Warsaw',\n",
       "        'Munich', 'Rome', 'Sofia', 'Berlin', 'Kyiv', 'Istanbul',\n",
       "        'Prague', 'Vienna', 'Barcelona'],\n",
       "       ['Kyiv', 'Vienna', 'Barcelona', 'Warsaw', 'Bucharest', 'Prague',\n",
       "        'Minsk', 'Paris', 'Sofia', 'Moscow', 'Munich', 'Amsterdam',\n",
       "        'Istanbul', 'Brussels', 'London', 'Milan', 'Rome', 'Budapest',\n",
       "        'Birmingham', 'Berlin'],\n",
       "       ['Milan', 'Prague', 'London', 'Budapest', 'Barcelona', 'Minsk',\n",
       "        'Moscow', 'Istanbul', 'Paris', 'Kyiv', 'Amsterdam', 'Warsaw',\n",
       "        'Vienna', 'Rome', 'Brussels', 'Berlin', 'Birmingham',\n",
       "        'Bucharest', 'Munich', 'Sofia'],\n",
       "       ['Sofia', 'Budapest', 'Istanbul', 'Prague', 'Kyiv', 'Vienna',\n",
       "        'Milan', 'Barcelona', 'Birmingham', 'Warsaw', 'Moscow', 'Berlin',\n",
       "        'Bucharest', 'London', 'Paris', 'Munich', 'Minsk', 'Rome',\n",
       "        'Amsterdam', 'Brussels']], dtype='<U10')"
      ]
     },
     "execution_count": 376,
     "metadata": {},
     "output_type": "execute_result"
    }
   ],
   "source": [
    "# First step: Create the first population set\n",
    "def genesis(city_list, n_population):\n",
    "\n",
    "    population_set = []\n",
    "    for i in range(n_population):\n",
    "        #Randomly generating a new solution\n",
    "        sol_i = city_list[np.random.choice(list(range(n_cities)), n_cities, replace=False)]\n",
    "        population_set.append(sol_i)\n",
    "    return np.array(population_set)\n",
    "\n",
    "population_set = genesis(names_list, n_population)\n",
    "population_set"
   ]
  },
  {
   "cell_type": "code",
   "execution_count": 377,
   "metadata": {},
   "outputs": [],
   "source": [
    "def fitness_eval(city_list, cities_dict):\n",
    "    total = 0\n",
    "    for i in range(n_cities-1):\n",
    "        a = city_list[i]\n",
    "        b = city_list[i+1]\n",
    "        total += compute_city_distance_names(a,b, cities_dict)\n",
    "    return total"
   ]
  },
  {
   "cell_type": "code",
   "execution_count": 378,
   "metadata": {},
   "outputs": [
    {
     "data": {
      "text/plain": [
       "array([1044.4229355 , 1153.43496653, 1126.06244742, 1032.80241754,\n",
       "       1156.80342067, 1085.75394083,  926.71516901, 1114.82946712,\n",
       "        961.30647879, 1097.44720346])"
      ]
     },
     "execution_count": 378,
     "metadata": {},
     "output_type": "execute_result"
    }
   ],
   "source": [
    "def get_all_fitnes(population_set, cities_dict):\n",
    "    fitnes_list = np.zeros(n_population)\n",
    "\n",
    "    #Looping over all solutions computing the fitness for each solution\n",
    "    for i in  range(n_population):\n",
    "        fitnes_list[i] = fitness_eval(population_set[i], cities_dict)\n",
    "\n",
    "    return fitnes_list\n",
    "\n",
    "fitnes_list = get_all_fitnes(population_set,cities_dict)\n",
    "fitnes_list"
   ]
  },
  {
   "cell_type": "code",
   "execution_count": 379,
   "metadata": {},
   "outputs": [
    {
     "data": {
      "text/plain": [
       "array(['Kyiv', 'Vienna', 'Barcelona', 'Warsaw', 'Bucharest', 'Prague',\n",
       "       'Minsk', 'Paris', 'Sofia', 'Moscow', 'Munich', 'Amsterdam',\n",
       "       'Istanbul', 'Brussels', 'London', 'Milan', 'Rome', 'Budapest',\n",
       "       'Birmingham', 'Berlin'], dtype='<U10')"
      ]
     },
     "execution_count": 379,
     "metadata": {},
     "output_type": "execute_result"
    }
   ],
   "source": [
    "def progenitor_selection(population_set,fitnes_list):\n",
    "    total_fit = fitnes_list.sum()\n",
    "    prob_list = (total_fit/fitnes_list)\n",
    "    prob_list = prob_list/prob_list.sum()\n",
    "    \n",
    "    #Notice there is the chance that a progenitor. mates with oneself\n",
    "    progenitor_list_a = np.random.choice(list(range(len(population_set))), len(population_set),p=prob_list, replace=True)\n",
    "    progenitor_list_b = np.random.choice(list(range(len(population_set))), len(population_set),p=prob_list, replace=True)\n",
    "    \n",
    "    progenitor_list_a = population_set[progenitor_list_a]\n",
    "    progenitor_list_b = population_set[progenitor_list_b]\n",
    "    \n",
    "    \n",
    "    return np.array([progenitor_list_a,progenitor_list_b])\n",
    "\n",
    "\n",
    "progenitor_list = progenitor_selection(population_set,fitnes_list)\n",
    "progenitor_list[0][2]"
   ]
  },
  {
   "cell_type": "code",
   "execution_count": 380,
   "metadata": {},
   "outputs": [
    {
     "data": {
      "text/plain": [
       "array(['Sofia', 'Budapest', 'Istanbul', 'Prague', 'Kyiv', 'Brussels',\n",
       "       'Bucharest', 'Moscow', 'Barcelona', 'Amsterdam', 'Milan', 'Warsaw',\n",
       "       'Birmingham', 'Berlin', 'Minsk', 'Paris', 'Munich', 'Vienna',\n",
       "       'Rome', 'London'], dtype='<U10')"
      ]
     },
     "execution_count": 380,
     "metadata": {},
     "output_type": "execute_result"
    }
   ],
   "source": [
    "def mate_progenitors(prog_a, prog_b):\n",
    "    offspring = prog_a[0:5]\n",
    "\n",
    "    for city in prog_b:\n",
    "\n",
    "        if not city in offspring:\n",
    "            offspring = np.concatenate((offspring,[city]))\n",
    "\n",
    "    return offspring\n",
    "            \n",
    "    \n",
    "    \n",
    "def mate_population(progenitor_list):\n",
    "    new_population_set = []\n",
    "    for i in range(progenitor_list.shape[1]):\n",
    "        prog_a, prog_b = progenitor_list[0][i], progenitor_list[1][i]\n",
    "        offspring = mate_progenitors(prog_a, prog_b)\n",
    "        new_population_set.append(offspring)\n",
    "        \n",
    "    return new_population_set\n",
    "\n",
    "new_population_set = mate_population(progenitor_list)\n",
    "new_population_set[0]"
   ]
  },
  {
   "cell_type": "code",
   "execution_count": 381,
   "metadata": {},
   "outputs": [
    {
     "data": {
      "text/plain": [
       "array(['Brussels', 'Kyiv', 'Paris', 'Rome', 'Prague', 'Istanbul', 'Sofia',\n",
       "       'Moscow', 'Barcelona', 'Milan', 'Amsterdam', 'Vienna',\n",
       "       'Birmingham', 'London', 'Warsaw', 'Budapest', 'Berlin', 'Minsk',\n",
       "       'Munich', 'Bucharest'], dtype='<U10')"
      ]
     },
     "execution_count": 381,
     "metadata": {},
     "output_type": "execute_result"
    }
   ],
   "source": [
    "def mutate_offspring(offspring):\n",
    "    for q in range(int(n_cities*mutation_rate)):\n",
    "        a = np.random.randint(0,n_cities)\n",
    "        b = np.random.randint(0,n_cities)\n",
    "\n",
    "        offspring[a], offspring[b] = offspring[b], offspring[a]\n",
    "\n",
    "    return offspring\n",
    "    \n",
    "    \n",
    "def mutate_population(new_population_set):\n",
    "    mutated_pop = []\n",
    "    for offspring in new_population_set:\n",
    "        mutated_pop.append(mutate_offspring(offspring))\n",
    "    return mutated_pop\n",
    "\n",
    "mutated_pop = mutate_population(new_population_set)\n",
    "mutated_pop[0]"
   ]
  },
  {
   "cell_type": "code",
   "execution_count": 382,
   "metadata": {},
   "outputs": [
    {
     "name": "stdout",
     "output_type": "stream",
     "text": [
      "0 inf 1069.95784468517 15/10/23 13:38\n",
      "50 701.9061178036364 1004.7478667721814 15/10/23 13:38\n",
      "100 701.9061178036364 1035.9634809145427 15/10/23 13:38\n",
      "150 701.9061178036364 1053.960815016947 15/10/23 13:38\n",
      "200 701.9061178036364 1055.5812338561295 15/10/23 13:38\n",
      "250 701.9061178036364 1035.6855052303993 15/10/23 13:38\n",
      "300 701.9061178036364 1015.1205427917927 15/10/23 13:38\n",
      "350 701.9061178036364 984.8151192878282 15/10/23 13:38\n",
      "400 701.9061178036364 1052.7510449811134 15/10/23 13:38\n",
      "450 701.9061178036364 1084.7239478166973 15/10/23 13:38\n",
      "500 701.9061178036364 1036.4163651655972 15/10/23 13:38\n",
      "550 701.9061178036364 1020.7771290336801 15/10/23 13:38\n",
      "600 701.9061178036364 1019.5149700679518 15/10/23 13:38\n",
      "650 701.9061178036364 1041.0260256670722 15/10/23 13:38\n",
      "700 676.765082923428 1056.5309779770184 15/10/23 13:38\n",
      "750 676.765082923428 1042.1516381088009 15/10/23 13:38\n",
      "800 676.765082923428 1005.0672711166928 15/10/23 13:38\n",
      "850 676.765082923428 1009.0596523530555 15/10/23 13:38\n",
      "900 676.765082923428 973.0989501601738 15/10/23 13:38\n",
      "950 676.765082923428 1030.8543256213482 15/10/23 13:38\n",
      "1000 676.765082923428 1006.2868982871967 15/10/23 13:38\n",
      "1050 676.765082923428 981.1000235314661 15/10/23 13:38\n",
      "1100 676.765082923428 1039.959486979689 15/10/23 13:38\n",
      "1150 676.765082923428 1075.584881221612 15/10/23 13:38\n",
      "1200 676.765082923428 1021.5008955432731 15/10/23 13:38\n",
      "1250 676.765082923428 1035.9134875618533 15/10/23 13:38\n",
      "1300 676.765082923428 999.6326449414822 15/10/23 13:38\n",
      "1350 676.765082923428 1011.5502074392496 15/10/23 13:38\n",
      "1400 676.765082923428 1047.5929458565383 15/10/23 13:38\n",
      "1450 676.765082923428 1054.9862912049866 15/10/23 13:38\n",
      "1500 676.765082923428 1016.1595266030257 15/10/23 13:38\n",
      "1550 676.765082923428 1007.496034713476 15/10/23 13:38\n",
      "1600 676.765082923428 1011.1409617069014 15/10/23 13:38\n",
      "1650 676.765082923428 1066.4113121337111 15/10/23 13:38\n",
      "1700 676.765082923428 1018.9961348686218 15/10/23 13:38\n",
      "1750 667.3912226033759 1024.9983248781089 15/10/23 13:38\n",
      "1800 667.3912226033759 1034.016297216361 15/10/23 13:38\n",
      "1850 667.3912226033759 977.7408684703445 15/10/23 13:38\n",
      "1900 667.3912226033759 1035.5858879235168 15/10/23 13:38\n",
      "1950 667.3912226033759 1023.3687798719968 15/10/23 13:38\n",
      "2000 667.3912226033759 1056.5676297839443 15/10/23 13:38\n",
      "2050 667.3912226033759 1015.2837677083564 15/10/23 13:38\n",
      "2100 667.3912226033759 1002.5649726613399 15/10/23 13:38\n",
      "2150 667.3912226033759 1025.3912722177133 15/10/23 13:38\n",
      "2200 667.3912226033759 1053.5223822248468 15/10/23 13:38\n",
      "2250 667.3912226033759 960.8897506060563 15/10/23 13:38\n",
      "2300 667.3912226033759 1014.2819475141796 15/10/23 13:38\n",
      "2350 667.3912226033759 1021.6946929484009 15/10/23 13:38\n",
      "2400 667.3912226033759 1002.0691875951046 15/10/23 13:38\n",
      "2450 667.3912226033759 1045.7019264104865 15/10/23 13:38\n",
      "2500 667.3912226033759 995.9614489543546 15/10/23 13:38\n",
      "2550 667.3912226033759 991.0356280768765 15/10/23 13:38\n",
      "2600 667.3912226033759 1025.1740583183328 15/10/23 13:38\n",
      "2650 667.3912226033759 1015.2276086486147 15/10/23 13:38\n",
      "2700 667.3912226033759 980.8350825405483 15/10/23 13:38\n",
      "2750 667.3912226033759 1023.7913132456708 15/10/23 13:38\n",
      "2800 656.4750808296749 971.3437243150889 15/10/23 13:38\n",
      "2850 656.4750808296749 1000.0950482910315 15/10/23 13:38\n",
      "2900 656.4750808296749 1036.0418368341184 15/10/23 13:38\n",
      "2950 656.4750808296749 1029.9776428242249 15/10/23 13:38\n",
      "3000 656.4750808296749 958.5743979319584 15/10/23 13:38\n",
      "3050 656.4750808296749 995.8181117898748 15/10/23 13:38\n",
      "3100 656.4750808296749 1014.3488658024855 15/10/23 13:38\n",
      "3150 656.4750808296749 1021.7874426250634 15/10/23 13:38\n",
      "3200 656.4750808296749 1080.7041277236763 15/10/23 13:38\n",
      "3250 656.4750808296749 1037.6319899169762 15/10/23 13:38\n",
      "3300 656.4750808296749 1004.0873815783345 15/10/23 13:38\n",
      "3350 656.4750808296749 1014.4689889002741 15/10/23 13:38\n",
      "3400 656.4750808296749 1066.8588111925555 15/10/23 13:38\n",
      "3450 656.4750808296749 1035.5689889338182 15/10/23 13:38\n",
      "3500 656.4750808296749 995.8212235458293 15/10/23 13:38\n",
      "3550 656.4750808296749 1048.7651824739573 15/10/23 13:38\n",
      "3600 656.4750808296749 995.4348717083782 15/10/23 13:38\n",
      "3650 656.4750808296749 1043.208782433891 15/10/23 13:38\n",
      "3700 656.4750808296749 1021.8871808238121 15/10/23 13:38\n",
      "3750 656.4750808296749 1066.7068902539645 15/10/23 13:38\n",
      "3800 656.4750808296749 1007.5726619458925 15/10/23 13:38\n",
      "3850 656.4750808296749 1018.8974649569925 15/10/23 13:38\n",
      "3900 656.4750808296749 1014.4932044138583 15/10/23 13:38\n",
      "3950 656.4750808296749 1028.5599622248017 15/10/23 13:38\n",
      "4000 656.4750808296749 1016.9215414167518 15/10/23 13:38\n",
      "4050 656.4750808296749 1021.1376415152124 15/10/23 13:38\n",
      "4100 656.4750808296749 1033.4176360653266 15/10/23 13:38\n",
      "4150 656.4750808296749 1004.9400359054641 15/10/23 13:38\n",
      "4200 656.4750808296749 1025.5901685821507 15/10/23 13:38\n",
      "4250 656.4750808296749 1051.2231350503553 15/10/23 13:38\n",
      "4300 656.4750808296749 1044.494810795976 15/10/23 13:38\n",
      "4350 656.4750808296749 982.5407010019874 15/10/23 13:38\n",
      "4400 656.4750808296749 1014.3720412401505 15/10/23 13:38\n",
      "4450 656.4750808296749 1035.7183524433478 15/10/23 13:38\n",
      "4500 656.4750808296749 970.3601572950405 15/10/23 13:38\n",
      "4550 656.4750808296749 1006.4511286721512 15/10/23 13:38\n",
      "4600 656.4750808296749 1054.938083020422 15/10/23 13:38\n",
      "4650 656.4750808296749 1060.7415824029874 15/10/23 13:38\n",
      "4700 656.4750808296749 995.0542487718419 15/10/23 13:38\n",
      "4750 656.4750808296749 1021.1113270269045 15/10/23 13:38\n",
      "4800 656.4750808296749 1020.5478585170802 15/10/23 13:38\n",
      "4850 653.2505562363268 1036.575421108279 15/10/23 13:38\n",
      "4900 653.2505562363268 1066.8250042615102 15/10/23 13:38\n",
      "4950 653.2505562363268 1004.8368684603702 15/10/23 13:38\n",
      "5000 653.2505562363268 994.2152669405239 15/10/23 13:38\n",
      "5050 653.2505562363268 997.4010601563207 15/10/23 13:38\n",
      "5100 653.2505562363268 1028.1960444677798 15/10/23 13:38\n",
      "5150 653.2505562363268 974.8496529191476 15/10/23 13:38\n",
      "5200 653.2505562363268 1007.4968188615678 15/10/23 13:38\n",
      "5250 653.2505562363268 1018.0130399176575 15/10/23 13:38\n",
      "5300 653.2505562363268 1013.7141957628344 15/10/23 13:38\n",
      "5350 653.2505562363268 1005.281593925952 15/10/23 13:38\n",
      "5400 653.2505562363268 977.9975137316985 15/10/23 13:38\n",
      "5450 653.2505562363268 1011.8633856333145 15/10/23 13:38\n",
      "5500 653.2505562363268 1043.8044292355276 15/10/23 13:38\n",
      "5550 653.2505562363268 953.8312522061667 15/10/23 13:38\n",
      "5600 653.2505562363268 1007.4070982087809 15/10/23 13:38\n",
      "5650 653.2505562363268 1024.3330948869582 15/10/23 13:38\n",
      "5700 653.2505562363268 1002.681487218037 15/10/23 13:38\n",
      "5750 653.2505562363268 1033.1822389500878 15/10/23 13:38\n",
      "5800 653.2505562363268 996.4197112446373 15/10/23 13:38\n",
      "5850 653.2505562363268 1004.515463160571 15/10/23 13:38\n",
      "5900 653.2505562363268 1051.140475275138 15/10/23 13:38\n",
      "5950 653.2505562363268 1021.351005632343 15/10/23 13:38\n",
      "6000 653.2505562363268 986.7874916583023 15/10/23 13:38\n",
      "6050 653.2505562363268 1058.0260463185793 15/10/23 13:38\n",
      "6100 653.2505562363268 1023.5126908110955 15/10/23 13:38\n",
      "6150 653.2505562363268 1052.0781489219494 15/10/23 13:38\n",
      "6200 653.2505562363268 1033.6656145102802 15/10/23 13:38\n",
      "6250 653.2505562363268 963.9003883709307 15/10/23 13:38\n",
      "6300 653.2505562363268 997.7405219316903 15/10/23 13:38\n",
      "6350 653.2505562363268 998.8146484388988 15/10/23 13:39\n",
      "6400 653.2505562363268 1065.0707709489113 15/10/23 13:39\n",
      "6450 653.2505562363268 1035.9598018116808 15/10/23 13:39\n",
      "6500 653.2505562363268 988.193330576775 15/10/23 13:39\n",
      "6550 653.2505562363268 1018.2456897113027 15/10/23 13:39\n",
      "6600 653.2505562363268 998.9750457690568 15/10/23 13:39\n",
      "6650 653.2505562363268 996.1979220918338 15/10/23 13:39\n",
      "6700 653.2505562363268 954.6109601774682 15/10/23 13:39\n",
      "6750 653.2505562363268 1080.9970523320544 15/10/23 13:39\n",
      "6800 653.2505562363268 1015.143848907472 15/10/23 13:39\n",
      "6850 653.2505562363268 988.5089727429415 15/10/23 13:39\n",
      "6900 653.2505562363268 990.5527972547834 15/10/23 13:39\n",
      "6950 653.2505562363268 1013.912784253175 15/10/23 13:39\n",
      "7000 653.2505562363268 1018.7494719953662 15/10/23 13:39\n",
      "7050 653.2505562363268 1003.344992121243 15/10/23 13:39\n",
      "7100 653.2505562363268 997.6729386631193 15/10/23 13:39\n",
      "7150 653.2505562363268 954.4954765138934 15/10/23 13:39\n",
      "7200 653.2505562363268 1035.928677305067 15/10/23 13:39\n",
      "7250 653.2505562363268 1019.6338731024607 15/10/23 13:39\n",
      "7300 653.2505562363268 985.9761375557928 15/10/23 13:39\n",
      "7350 653.2505562363268 1001.8082356380249 15/10/23 13:39\n",
      "7400 653.2505562363268 996.6332670272313 15/10/23 13:39\n",
      "7450 653.2505562363268 1024.6528781452082 15/10/23 13:39\n",
      "7500 653.2505562363268 1002.1714404868857 15/10/23 13:39\n",
      "7550 653.2505562363268 1023.6268138222013 15/10/23 13:39\n",
      "7600 653.2505562363268 976.5698976775166 15/10/23 13:39\n",
      "7650 653.2505562363268 1024.7036641999034 15/10/23 13:39\n",
      "7700 653.2505562363268 1019.8417895401435 15/10/23 13:39\n",
      "7750 653.2505562363268 993.3511009232767 15/10/23 13:39\n",
      "7800 653.2505562363268 1044.3640429983434 15/10/23 13:39\n",
      "7850 653.2505562363268 1014.517991086148 15/10/23 13:39\n",
      "7900 618.4009640471496 1013.0015970437732 15/10/23 13:39\n",
      "7950 618.4009640471496 1049.0074758819187 15/10/23 13:39\n",
      "8000 618.4009640471496 1056.690451951175 15/10/23 13:39\n",
      "8050 618.4009640471496 1057.848791059491 15/10/23 13:39\n",
      "8100 618.4009640471496 1028.3257666166676 15/10/23 13:39\n",
      "8150 618.4009640471496 1040.3494102906184 15/10/23 13:39\n",
      "8200 618.4009640471496 1016.6529211899694 15/10/23 13:39\n",
      "8250 618.4009640471496 1032.257616451005 15/10/23 13:39\n",
      "8300 618.4009640471496 1021.4847126936945 15/10/23 13:39\n",
      "8350 618.4009640471496 1086.2084200186125 15/10/23 13:39\n",
      "8400 618.4009640471496 995.4152390372808 15/10/23 13:39\n",
      "8450 618.4009640471496 1011.4872260685901 15/10/23 13:39\n",
      "8500 618.4009640471496 989.9186452184406 15/10/23 13:39\n",
      "8550 618.4009640471496 1044.4036135941933 15/10/23 13:39\n",
      "8600 618.4009640471496 1025.7683774640864 15/10/23 13:39\n",
      "8650 618.4009640471496 1048.977057876658 15/10/23 13:39\n",
      "8700 618.4009640471496 1013.6033574636738 15/10/23 13:39\n",
      "8750 618.4009640471496 1022.2739252845091 15/10/23 13:39\n",
      "8800 618.4009640471496 1012.829216172651 15/10/23 13:39\n",
      "8850 618.4009640471496 1011.7482226156974 15/10/23 13:39\n",
      "8900 618.4009640471496 1021.2981110370736 15/10/23 13:39\n",
      "8950 618.4009640471496 987.0725847935122 15/10/23 13:39\n",
      "9000 618.4009640471496 1030.4304949555042 15/10/23 13:39\n",
      "9050 618.4009640471496 1018.80984346625 15/10/23 13:39\n",
      "9100 618.4009640471496 996.1374543673974 15/10/23 13:39\n",
      "9150 618.4009640471496 997.1453467290605 15/10/23 13:39\n",
      "9200 618.4009640471496 1008.3513388993604 15/10/23 13:39\n",
      "9250 618.4009640471496 991.6502621713329 15/10/23 13:39\n",
      "9300 618.4009640471496 962.0836509153436 15/10/23 13:39\n",
      "9350 618.4009640471496 1033.4154967063191 15/10/23 13:39\n",
      "9400 618.4009640471496 1035.186951676476 15/10/23 13:39\n",
      "9450 618.4009640471496 949.7763588528717 15/10/23 13:39\n",
      "9500 618.4009640471496 1010.2387275346977 15/10/23 13:39\n",
      "9550 618.4009640471496 1019.3652603470504 15/10/23 13:39\n",
      "9600 618.4009640471496 1020.6066919758316 15/10/23 13:39\n",
      "9650 618.4009640471496 1011.6464064463875 15/10/23 13:39\n",
      "9700 618.4009640471496 1080.448276094784 15/10/23 13:39\n",
      "9750 618.4009640471496 1050.6599354738523 15/10/23 13:39\n",
      "9800 618.4009640471496 992.8019508996691 15/10/23 13:39\n",
      "9850 618.4009640471496 1057.5803614807658 15/10/23 13:39\n",
      "9900 618.4009640471496 938.0824757065708 15/10/23 13:39\n",
      "9950 618.4009640471496 1030.4228794876044 15/10/23 13:39\n"
     ]
    }
   ],
   "source": [
    "best_solution = [-1,np.inf,np.array([])]\n",
    "for i in range(10000):\n",
    "    if i%50==0: print(i, best_solution[1], fitnes_list.mean(), datetime.now().strftime(\"%d/%m/%y %H:%M\"))\n",
    "    fitnes_list = get_all_fitnes(mutated_pop,cities_dict)\n",
    "    \n",
    "    #Saving the best solution\n",
    "    if fitnes_list.min() < best_solution[1]:\n",
    "        best_solution[0] = i\n",
    "        best_solution[1] = fitnes_list.min()\n",
    "        best_solution[2] = np.array(mutated_pop)[fitnes_list.min() == fitnes_list]\n",
    "    \n",
    "    progenitor_list = progenitor_selection(population_set,fitnes_list)\n",
    "    new_population_set = mate_population(progenitor_list)\n",
    "    \n",
    "    mutated_pop = mutate_population(new_population_set)"
   ]
  },
  {
   "cell_type": "code",
   "execution_count": 383,
   "metadata": {},
   "outputs": [
    {
     "data": {
      "text/plain": [
       "[7874,\n",
       " 618.4009640471496,\n",
       " array([['Bucharest', 'Berlin', 'Rome', 'Budapest', 'Minsk', 'Birmingham',\n",
       "         'London', 'Barcelona', 'Sofia', 'Milan', 'Amsterdam', 'Moscow',\n",
       "         'Kyiv', 'Istanbul', 'Brussels', 'Vienna', 'Paris', 'Warsaw',\n",
       "         'Munich', 'Prague']], dtype='<U10')]"
      ]
     },
     "execution_count": 383,
     "metadata": {},
     "output_type": "execute_result"
    }
   ],
   "source": [
    "best_solution"
   ]
  },
  {
   "cell_type": "code",
   "execution_count": null,
   "metadata": {},
   "outputs": [],
   "source": []
  }
 ],
 "metadata": {
  "kernelspec": {
   "display_name": "Python 3.10.6 64-bit",
   "language": "python",
   "name": "python3"
  },
  "language_info": {
   "codemirror_mode": {
    "name": "ipython",
    "version": 3
   },
   "file_extension": ".py",
   "mimetype": "text/x-python",
   "name": "python",
   "nbconvert_exporter": "python",
   "pygments_lexer": "ipython3",
   "version": "3.9.0"
  },
  "vscode": {
   "interpreter": {
    "hash": "33a4542e4cc6c10be1951f7181ece9e030a5d84a8de853c4e052a2492c0e6b9c"
   }
  }
 },
 "nbformat": 4,
 "nbformat_minor": 2
}
